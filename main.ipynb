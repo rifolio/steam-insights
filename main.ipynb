{
 "cells": [
  {
   "cell_type": "code",
   "execution_count": 5,
   "metadata": {},
   "outputs": [],
   "source": [
    "import pandas as pd\n",
    "import numpy as np\n",
    "import matplotlib.pyplot as plt\n",
    "import seaborn as sns\n",
    "import json"
   ]
  },
  {
   "cell_type": "code",
   "execution_count": 9,
   "metadata": {},
   "outputs": [
    {
     "name": "stderr",
     "output_type": "stream",
     "text": [
      "C:\\Users\\Jonas\\AppData\\Local\\Temp\\ipykernel_12080\\574882810.py:4: DtypeWarning: Columns (1,3,4,5,9,11,12) have mixed types. Specify dtype option on import or set low_memory=False.\n",
      "  df_reviews = pd.read_csv('steam_data/reviews.csv', quotechar='\"', escapechar=\"\\\\\", encoding=\"utf-8\", on_bad_lines=\"skip\")\n"
     ]
    }
   ],
   "source": [
    "df_categories = pd.read_csv('steam_data/categories.csv')\n",
    "df_games = pd.read_csv('steam_data/games.csv', quotechar='\"', escapechar=\"\\\\\", encoding=\"utf-8\", on_bad_lines=\"skip\")\n",
    "df_genres = pd.read_csv('steam_data/genres.csv')\n",
    "df_reviews = pd.read_csv('steam_data/reviews.csv', quotechar='\"', escapechar=\"\\\\\", encoding=\"utf-8\", on_bad_lines=\"skip\")\n",
    "df_tags = pd.read_csv('steam_data/tags.csv')\n",
    "df_steamspy_insights = pd.read_csv('steam_data/steamspy_insights.csv', quotechar='\"', escapechar=\"\\\\\", encoding=\"utf-8\", on_bad_lines=\"skip\")"
   ]
  },
  {
   "cell_type": "code",
   "execution_count": 10,
   "metadata": {},
   "outputs": [
    {
     "data": {
      "application/vnd.microsoft.datawrangler.viewer.v0+json": {
       "columns": [
        {
         "name": "index",
         "rawType": "int64",
         "type": "integer"
        },
        {
         "name": "app_id",
         "rawType": "int64",
         "type": "integer"
        },
        {
         "name": "category",
         "rawType": "object",
         "type": "string"
        }
       ],
       "conversionMethod": "pd.DataFrame",
       "ref": "e27e5bd4-c956-4f73-abbb-5eac654de609",
       "rows": [
        [
         "0",
         "10",
         "Family Sharing"
        ],
        [
         "1",
         "10",
         "Multi-player"
        ],
        [
         "2",
         "10",
         "Online PvP"
        ],
        [
         "3",
         "10",
         "PvP"
        ],
        [
         "4",
         "10",
         "Shared/Split Screen PvP"
        ]
       ],
       "shape": {
        "columns": 2,
        "rows": 5
       }
      },
      "text/html": [
       "<div>\n",
       "<style scoped>\n",
       "    .dataframe tbody tr th:only-of-type {\n",
       "        vertical-align: middle;\n",
       "    }\n",
       "\n",
       "    .dataframe tbody tr th {\n",
       "        vertical-align: top;\n",
       "    }\n",
       "\n",
       "    .dataframe thead th {\n",
       "        text-align: right;\n",
       "    }\n",
       "</style>\n",
       "<table border=\"1\" class=\"dataframe\">\n",
       "  <thead>\n",
       "    <tr style=\"text-align: right;\">\n",
       "      <th></th>\n",
       "      <th>app_id</th>\n",
       "      <th>category</th>\n",
       "    </tr>\n",
       "  </thead>\n",
       "  <tbody>\n",
       "    <tr>\n",
       "      <th>0</th>\n",
       "      <td>10</td>\n",
       "      <td>Family Sharing</td>\n",
       "    </tr>\n",
       "    <tr>\n",
       "      <th>1</th>\n",
       "      <td>10</td>\n",
       "      <td>Multi-player</td>\n",
       "    </tr>\n",
       "    <tr>\n",
       "      <th>2</th>\n",
       "      <td>10</td>\n",
       "      <td>Online PvP</td>\n",
       "    </tr>\n",
       "    <tr>\n",
       "      <th>3</th>\n",
       "      <td>10</td>\n",
       "      <td>PvP</td>\n",
       "    </tr>\n",
       "    <tr>\n",
       "      <th>4</th>\n",
       "      <td>10</td>\n",
       "      <td>Shared/Split Screen PvP</td>\n",
       "    </tr>\n",
       "  </tbody>\n",
       "</table>\n",
       "</div>"
      ],
      "text/plain": [
       "   app_id                 category\n",
       "0      10           Family Sharing\n",
       "1      10             Multi-player\n",
       "2      10               Online PvP\n",
       "3      10                      PvP\n",
       "4      10  Shared/Split Screen PvP"
      ]
     },
     "execution_count": 10,
     "metadata": {},
     "output_type": "execute_result"
    }
   ],
   "source": [
    "# Pre-processing"
   ]
  },
  {
   "cell_type": "markdown",
   "metadata": {},
   "source": [
    "Converting json-like object in price_overview column into separate column for easier usage"
   ]
  },
  {
   "cell_type": "code",
   "execution_count": 5,
   "metadata": {},
   "outputs": [],
   "source": [
    "def extract_price_info(price_str):\n",
    "    try:\n",
    "        data = json.loads(price_str)\n",
    "    except (TypeError, json.JSONDecodeError):\n",
    "        return pd.Series({\n",
    "            'final': None,\n",
    "            'initial': None,\n",
    "            'currency': None,\n",
    "            'final_formatted': None,\n",
    "            'discount_percent': None,\n",
    "            'initial_formatted': None,\n",
    "        })\n",
    "    return pd.Series({\n",
    "        'final': data.get('final'),\n",
    "        'initial': data.get('initial'),\n",
    "        'currency': data.get('currency'),\n",
    "        'final_formatted': data.get('final_formatted'),\n",
    "        'discount_percent': data.get('discount_percent'),\n",
    "        'initial_formatted': data.get('initial_formatted'),\n",
    "    })"
   ]
  },
  {
   "cell_type": "code",
   "execution_count": 6,
   "metadata": {},
   "outputs": [],
   "source": [
    "price_details = df_games['price_overview'].apply(extract_price_info)\n",
    "df_games = pd.concat([df_games, price_details], axis=1)\n",
    "\n",
    "# to remvoe the original 'price_overview' column\n",
    "df_games = df_games.drop(columns=['price_overview'])"
   ]
  },
  {
   "cell_type": "markdown",
   "metadata": {},
   "source": [
    "Cleaning the 'languages' column from <\\br> <\\strong> and * signs"
   ]
  },
  {
   "cell_type": "code",
   "execution_count": 7,
   "metadata": {},
   "outputs": [],
   "source": [
    "# <strong> tags\n",
    "df_games['languages'] = df_games['languages'].str.replace(r'</?strong>', '', regex=True)\n",
    "\n",
    "# <br> tags (covers <br>, <br/>, or <br />)\n",
    "df_games['languages'] = df_games['languages'].str.replace(r'</?br\\s*/?>', '', regex=True)\n",
    "\n",
    "\n",
    "# asterisks (*)\n",
    "df_games['languages'] = df_games['languages'].str.replace('*', '', regex=False)\n",
    "\n",
    "# to remove space before and the phrase \"with full audio support\"\n",
    "df_games['languages'] = df_games['languages'].str.replace(r'\\s*with full audio support', '', regex=True)"
   ]
  },
  {
   "cell_type": "code",
   "execution_count": 8,
   "metadata": {},
   "outputs": [],
   "source": [
    "df_games.to_csv('steam_data/games_cleaned.csv', index=False)"
   ]
  },
  {
   "cell_type": "markdown",
   "metadata": {},
   "source": [
    "# EDA"
   ]
  },
  {
   "cell_type": "markdown",
   "metadata": {},
   "source": []
  }
 ],
 "metadata": {
  "kernelspec": {
   "display_name": "Python 3",
   "language": "python",
   "name": "python3"
  },
  "language_info": {
   "codemirror_mode": {
    "name": "ipython",
    "version": 3
   },
   "file_extension": ".py",
   "mimetype": "text/x-python",
   "name": "python",
   "nbconvert_exporter": "python",
   "pygments_lexer": "ipython3",
   "version": "3.10.11"
  }
 },
 "nbformat": 4,
 "nbformat_minor": 2
}
