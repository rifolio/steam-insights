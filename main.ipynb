{
 "cells": [
  {
   "cell_type": "code",
   "execution_count": 4,
   "metadata": {},
   "outputs": [],
   "source": [
    "import pandas as pd\n",
    "import numpy as np\n",
    "import matplotlib.pyplot as plt\n",
    "import seaborn as sns\n",
    "import json"
   ]
  },
  {
   "cell_type": "code",
   "execution_count": 5,
   "metadata": {},
   "outputs": [
    {
     "name": "stderr",
     "output_type": "stream",
     "text": [
      "/var/folders/kl/f84_8w7x3kg1ccbk5n2lqjg40000gn/T/ipykernel_2545/574882810.py:4: DtypeWarning: Columns (1,3,4,5,9,11,12) have mixed types. Specify dtype option on import or set low_memory=False.\n",
      "  df_reviews = pd.read_csv('steam_data/reviews.csv', quotechar='\"', escapechar=\"\\\\\", encoding=\"utf-8\", on_bad_lines=\"skip\")\n"
     ]
    }
   ],
   "source": [
    "df_categories = pd.read_csv('steam_data/categories.csv')\n",
    "df_games = pd.read_csv('steam_data/games.csv', quotechar='\"', escapechar=\"\\\\\", encoding=\"utf-8\", on_bad_lines=\"skip\")\n",
    "df_genres = pd.read_csv('steam_data/genres.csv')\n",
    "df_reviews = pd.read_csv('steam_data/reviews.csv', quotechar='\"', escapechar=\"\\\\\", encoding=\"utf-8\", on_bad_lines=\"skip\")\n",
    "df_tags = pd.read_csv('steam_data/tags.csv')\n",
    "df_steamspy_insights = pd.read_csv('steam_data/steamspy_insights.csv', quotechar='\"', escapechar=\"\\\\\", encoding=\"utf-8\", on_bad_lines=\"skip\")"
   ]
  },
  {
   "cell_type": "markdown",
   "metadata": {},
   "source": [
    "# Pre-processing"
   ]
  },
  {
   "cell_type": "markdown",
   "metadata": {},
   "source": [
    "Converting json-like object in price_overview column into separate column for easier usage"
   ]
  },
  {
   "cell_type": "code",
   "execution_count": 6,
   "metadata": {},
   "outputs": [],
   "source": [
    "def extract_price_info(price_str):\n",
    "    try:\n",
    "        data = json.loads(price_str)\n",
    "    except (TypeError, json.JSONDecodeError):\n",
    "        return pd.Series({\n",
    "            'final': None,\n",
    "            'initial': None,\n",
    "            'currency': None,\n",
    "            'final_formatted': None,\n",
    "            'discount_percent': None,\n",
    "            'initial_formatted': None,\n",
    "        })\n",
    "    return pd.Series({\n",
    "        'final': data.get('final'),\n",
    "        'initial': data.get('initial'),\n",
    "        'currency': data.get('currency'),\n",
    "        'final_formatted': data.get('final_formatted'),\n",
    "        'discount_percent': data.get('discount_percent'),\n",
    "        'initial_formatted': data.get('initial_formatted'),\n",
    "    })"
   ]
  },
  {
   "cell_type": "code",
   "execution_count": 7,
   "metadata": {},
   "outputs": [],
   "source": [
    "price_details = df_games['price_overview'].apply(extract_price_info)\n",
    "df_games = pd.concat([df_games, price_details], axis=1)\n",
    "\n",
    "# to remvoe the original 'price_overview' column\n",
    "df_games = df_games.drop(columns=['price_overview'])"
   ]
  },
  {
   "cell_type": "markdown",
   "metadata": {},
   "source": [
    "Deleting inconsistant data"
   ]
  },
  {
   "cell_type": "code",
   "execution_count": 8,
   "metadata": {},
   "outputs": [],
   "source": [
    "df_games.drop(columns=['languages'], inplace=True)\n",
    "df_reviews.drop(columns=['reviews'], inplace=True)\n",
    "df_steamspy_insights.drop(columns=['languages'], inplace=True)"
   ]
  },
  {
   "cell_type": "code",
   "execution_count": 9,
   "metadata": {},
   "outputs": [],
   "source": [
    "df_selected_games = df_games[['app_id', 'name', 'release_date', 'is_free', 'type']]\n",
    "df_selected_steamspy = df_steamspy_insights[['app_id', 'developer', 'publisher', 'owners_range']]\n",
    "df_selected_reviews = df_reviews[['app_id','review_score', 'review_score_description', 'positive', 'negative', 'total']]\n",
    "\n",
    "df_combined = pd.merge(df_selected_games, df_selected_steamspy, on='app_id', how='inner')\n",
    "df_combined = pd.merge(df_combined, df_selected_reviews, on='app_id', how='inner')"
   ]
  },
  {
   "cell_type": "code",
   "execution_count": 10,
   "metadata": {},
   "outputs": [
    {
     "data": {
      "text/html": [
       "<div>\n",
       "<style scoped>\n",
       "    .dataframe tbody tr th:only-of-type {\n",
       "        vertical-align: middle;\n",
       "    }\n",
       "\n",
       "    .dataframe tbody tr th {\n",
       "        vertical-align: top;\n",
       "    }\n",
       "\n",
       "    .dataframe thead th {\n",
       "        text-align: right;\n",
       "    }\n",
       "</style>\n",
       "<table border=\"1\" class=\"dataframe\">\n",
       "  <thead>\n",
       "    <tr style=\"text-align: right;\">\n",
       "      <th></th>\n",
       "      <th>app_id</th>\n",
       "      <th>name</th>\n",
       "      <th>release_date</th>\n",
       "      <th>is_free</th>\n",
       "      <th>type</th>\n",
       "      <th>developer</th>\n",
       "      <th>publisher</th>\n",
       "      <th>owners_range</th>\n",
       "      <th>review_score</th>\n",
       "      <th>review_score_description</th>\n",
       "      <th>positive</th>\n",
       "      <th>negative</th>\n",
       "      <th>total</th>\n",
       "    </tr>\n",
       "  </thead>\n",
       "  <tbody>\n",
       "    <tr>\n",
       "      <th>0</th>\n",
       "      <td>10</td>\n",
       "      <td>Counter-Strike</td>\n",
       "      <td>2000-11-01</td>\n",
       "      <td>0</td>\n",
       "      <td>game</td>\n",
       "      <td>Valve</td>\n",
       "      <td>Valve</td>\n",
       "      <td>10,000,000 .. 20,000,000</td>\n",
       "      <td>9</td>\n",
       "      <td>Overwhelmingly Positive</td>\n",
       "      <td>235403</td>\n",
       "      <td>6207</td>\n",
       "      <td>241610</td>\n",
       "    </tr>\n",
       "    <tr>\n",
       "      <th>1</th>\n",
       "      <td>20</td>\n",
       "      <td>Team Fortress Classic</td>\n",
       "      <td>1999-04-01</td>\n",
       "      <td>0</td>\n",
       "      <td>game</td>\n",
       "      <td>Valve</td>\n",
       "      <td>Valve</td>\n",
       "      <td>5,000,000 .. 10,000,000</td>\n",
       "      <td>8</td>\n",
       "      <td>Very Positive</td>\n",
       "      <td>7315</td>\n",
       "      <td>1094</td>\n",
       "      <td>8409</td>\n",
       "    </tr>\n",
       "    <tr>\n",
       "      <th>2</th>\n",
       "      <td>30</td>\n",
       "      <td>Day of Defeat</td>\n",
       "      <td>2003-05-01</td>\n",
       "      <td>0</td>\n",
       "      <td>game</td>\n",
       "      <td>Valve</td>\n",
       "      <td>Valve</td>\n",
       "      <td>5,000,000 .. 10,000,000</td>\n",
       "      <td>8</td>\n",
       "      <td>Very Positive</td>\n",
       "      <td>6249</td>\n",
       "      <td>672</td>\n",
       "      <td>6921</td>\n",
       "    </tr>\n",
       "    <tr>\n",
       "      <th>3</th>\n",
       "      <td>40</td>\n",
       "      <td>Deathmatch Classic</td>\n",
       "      <td>2001-06-01</td>\n",
       "      <td>0</td>\n",
       "      <td>game</td>\n",
       "      <td>Valve</td>\n",
       "      <td>Valve</td>\n",
       "      <td>5,000,000 .. 10,000,000</td>\n",
       "      <td>8</td>\n",
       "      <td>Very Positive</td>\n",
       "      <td>2542</td>\n",
       "      <td>524</td>\n",
       "      <td>3066</td>\n",
       "    </tr>\n",
       "    <tr>\n",
       "      <th>4</th>\n",
       "      <td>50</td>\n",
       "      <td>Half-Life: Opposing Force</td>\n",
       "      <td>1999-11-01</td>\n",
       "      <td>0</td>\n",
       "      <td>game</td>\n",
       "      <td>Gearbox Software</td>\n",
       "      <td>Valve</td>\n",
       "      <td>2,000,000 .. 5,000,000</td>\n",
       "      <td>9</td>\n",
       "      <td>Overwhelmingly Positive</td>\n",
       "      <td>22263</td>\n",
       "      <td>1111</td>\n",
       "      <td>23374</td>\n",
       "    </tr>\n",
       "  </tbody>\n",
       "</table>\n",
       "</div>"
      ],
      "text/plain": [
       "   app_id                       name release_date  is_free  type  \\\n",
       "0      10             Counter-Strike   2000-11-01        0  game   \n",
       "1      20      Team Fortress Classic   1999-04-01        0  game   \n",
       "2      30              Day of Defeat   2003-05-01        0  game   \n",
       "3      40         Deathmatch Classic   2001-06-01        0  game   \n",
       "4      50  Half-Life: Opposing Force   1999-11-01        0  game   \n",
       "\n",
       "          developer publisher              owners_range review_score  \\\n",
       "0             Valve     Valve  10,000,000 .. 20,000,000            9   \n",
       "1             Valve     Valve   5,000,000 .. 10,000,000            8   \n",
       "2             Valve     Valve   5,000,000 .. 10,000,000            8   \n",
       "3             Valve     Valve   5,000,000 .. 10,000,000            8   \n",
       "4  Gearbox Software     Valve    2,000,000 .. 5,000,000            9   \n",
       "\n",
       "  review_score_description positive negative   total  \n",
       "0  Overwhelmingly Positive   235403     6207  241610  \n",
       "1            Very Positive     7315     1094    8409  \n",
       "2            Very Positive     6249      672    6921  \n",
       "3            Very Positive     2542      524    3066  \n",
       "4  Overwhelmingly Positive    22263     1111   23374  "
      ]
     },
     "execution_count": 10,
     "metadata": {},
     "output_type": "execute_result"
    }
   ],
   "source": [
    "df_combined.head()"
   ]
  },
  {
   "cell_type": "code",
   "execution_count": null,
   "metadata": {},
   "outputs": [],
   "source": [
    "df_categories.to_csv('steam_data_fixed/df_categories.csv', index=False)\n",
    "df_genres.to_csv('steam_data_fixed/df_genres.csv', index=False)\n",
    "df_reviews.to_csv('steam_data_fixed/df_reviews.csv', index=False)\n",
    "df_tags.to_csv('steam_data_fixed/df_tags.csv', index=False)\n",
    "df_steamspy_insights.to_csv('steam_data_fixed/df_steamspy_insights.csv', index=False)\n",
    "df_games.to_csv('steam_data_fixed/games.csv', index=False)"
   ]
  }
 ],
 "metadata": {
  "kernelspec": {
   "display_name": "Python 3",
   "language": "python",
   "name": "python3"
  },
  "language_info": {
   "codemirror_mode": {
    "name": "ipython",
    "version": 3
   },
   "file_extension": ".py",
   "mimetype": "text/x-python",
   "name": "python",
   "nbconvert_exporter": "python",
   "pygments_lexer": "ipython3",
   "version": "3.10.16"
  }
 },
 "nbformat": 4,
 "nbformat_minor": 2
}
